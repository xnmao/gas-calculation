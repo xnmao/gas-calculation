{
 "cells": [
  {
   "cell_type": "code",
   "execution_count": 1,
   "id": "dd0c2d80",
   "metadata": {},
   "outputs": [],
   "source": [
    "import pandas as pd\n",
    "import matplotlib.pyplot as plt\n",
    "from ase.visualize.plot import plot_atoms\n",
    "from ase.io import read"
   ]
  },
  {
   "cell_type": "code",
   "execution_count": 2,
   "id": "a4faf991",
   "metadata": {},
   "outputs": [],
   "source": [
    "formulas = [\n",
    "    'H2O',\n",
    "    'H2'\n",
    "]"
   ]
  },
  {
   "cell_type": "code",
   "execution_count": 3,
   "id": "addf3896",
   "metadata": {},
   "outputs": [],
   "source": [
    "xc = 'RPBE' # 'PW91', 'PBE', 'RPBE'\n",
    "encut = 400 # 400, 520\n",
    "ispin = 2 # 1, 2\n",
    "ivdw = 0 # 0, 10, 11, 12\n",
    "concentration = 0 # 0.0, 0.1, 1.0"
   ]
  },
  {
   "cell_type": "code",
   "execution_count": 4,
   "id": "3fa19d57",
   "metadata": {},
   "outputs": [],
   "source": [
    "data = pd.read_csv('data/gas_phase.csv')\n",
    "data = data[(data.xc==xc)&(data.encut==encut)&(data.ispin==ispin)&(data.ivdw==ivdw)&(data.concentration==concentration)]"
   ]
  },
  {
   "cell_type": "code",
   "execution_count": 5,
   "id": "f3d7b605",
   "metadata": {},
   "outputs": [
    {
     "name": "stdout",
     "output_type": "stream",
     "text": [
      "H2O\n",
      "H2\n"
     ]
    },
    {
     "data": {
      "image/png": "[encoded data removed]",
      "text/plain": [
       "<Figure size 72x72 with 1 Axes>"
      ]
     },
     "metadata": {
      "needs_background": "light"
     },
     "output_type": "display_data"
    },
    {
     "data": {
      "image/png": "[encoded data removed]",
      "text/plain": [
       "<Figure size 72x72 with 1 Axes>"
      ]
     },
     "metadata": {
      "needs_background": "light"
     },
     "output_type": "display_data"
    }
   ],
   "source": [
    "for formula in formulas:\n",
    "    print(formula)\n",
    "    i = data.set_index('formula')['Unnamed: 0'][formula]\n",
    "    atoms = read('data/gas_phase.json', i-1)\n",
    "    atoms.rotate(90, 'y')\n",
    "\n",
    "    plt.figure(figsize=(1, 1))\n",
    "    ax = plt.gca()\n",
    "    plot_atoms(atoms, ax=ax, show_unit_cell=1, bbox=[6, 6, 9, 9])\n",
    "    ax.axis('off')\n",
    "    plt.savefig(f'{formula}.svg', bbox_inches='tight')"
   ]
  },
  {
   "cell_type": "code",
   "execution_count": null,
   "id": "a920b72a",
   "metadata": {},
   "outputs": [],
   "source": []
  }
 ],
 "metadata": {
  "kernelspec": {
   "display_name": "Python 3",
   "language": "python",
   "name": "python3"
  },
  "language_info": {
   "codemirror_mode": {
    "name": "ipython",
    "version": 3
   },
   "file_extension": ".py",
   "mimetype": "text/x-python",
   "name": "python",
   "nbconvert_exporter": "python",
   "pygments_lexer": "ipython3",
   "version": "3.8.8"
  }
 },
 "nbformat": 4,
 "nbformat_minor": 5
}
