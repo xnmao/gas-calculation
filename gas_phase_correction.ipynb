{
 "cells": [
  {
   "cell_type": "code",
   "execution_count": 1,
   "id": "4e9ebbbe",
   "metadata": {},
   "outputs": [],
   "source": [
    "import numpy as np\n",
    "import pandas as pd\n",
    "from sklearn.linear_model import LinearRegression\n",
    "from math import isclose\n",
    "from ase.formula import Formula"
   ]
  },
  {
   "cell_type": "code",
   "execution_count": 2,
   "id": "9b1fd34a",
   "metadata": {},
   "outputs": [],
   "source": [
    "from matkit.pathway import get_balanced_count, get_relative_energy"
   ]
  },
  {
   "cell_type": "markdown",
   "id": "fcfcf143",
   "metadata": {},
   "source": [
    "### VASP Parameters"
   ]
  },
  {
   "cell_type": "code",
   "execution_count": 3,
   "id": "60a3d388",
   "metadata": {},
   "outputs": [],
   "source": [
    "xc = 'RPBE' # 'PW91', 'PBE', 'RPBE'\n",
    "encut = 520 # 400, 520\n",
    "ispin = 1 # 1, 2\n",
    "ivdw = 0 # 0, 10, 11, 12\n",
    "concentration = 0 # 0.0, 0.1, 1.0"
   ]
  },
  {
   "cell_type": "markdown",
   "id": "cd81b804",
   "metadata": {},
   "source": [
    "### CO<sub>2</sub>RR Correction\n",
    "OCO backbone  \n",
    "<https://doi.org/10.1038/s41467-018-03712-z>"
   ]
  },
  {
   "cell_type": "code",
   "execution_count": 4,
   "id": "a4e7fe1b",
   "metadata": {},
   "outputs": [],
   "source": [
    "data = pd.read_csv('data/gas_phase.csv', index_col=0)\n",
    "data = data[(data.xc==xc)&(data.encut==encut)&(data.ispin==ispin)&(data.ivdw==ivdw)&(data.concentration==concentration)]\n",
    "data = data.set_index('formula')"
   ]
  },
  {
   "cell_type": "code",
   "execution_count": 5,
   "id": "47bb6dac",
   "metadata": {},
   "outputs": [],
   "source": [
    "def get_chemical_equation(species): # 使用H2和H2O配平化学式中的H和O\n",
    "    count = {'H': 0, 'O': 0}\n",
    "    for formula, n in species.items():\n",
    "        formula_count = Formula(formula).count()\n",
    "        count['H'] += n*formula_count.get('H', 0)\n",
    "        count['O'] += n*formula_count.get('O', 0)\n",
    "    balanced_count = get_balanced_count(count, pe=False)\n",
    "    chemical_equation = species.copy()\n",
    "    chemical_equation.update({'H2O': balanced_count['H2O'], 'H2': balanced_count['H2']})\n",
    "    return chemical_equation"
   ]
  },
  {
   "cell_type": "code",
   "execution_count": 6,
   "id": "70d4d7ec",
   "metadata": {},
   "outputs": [],
   "source": [
    "reaction = pd.DataFrame(map(get_chemical_equation, [\n",
    "    {'CO2': -1., 'CO': 1.},\n",
    "    {'CO2': -1., 'CH4': 1.}, {'CO': -1., 'CH4': 1.},\n",
    "    {'CO2': -1., 'HCOOH': 1.,}, {'CO': -1., 'HCOOH': 1.,},\n",
    "    {'CO2': -1., 'CH3OH': 1.}, {'CO': -1., 'CH3OH': 1.,},\n",
    "    {'CO2': -1., 'C2H4': 0.5}, {'CO': -1., 'C2H4': 0.5},\n",
    "    {'CO2': -1., 'C2H6': 0.5}, {'CO': -1., 'C2H6': 0.5},\n",
    "])).fillna(0) # 气相热化学反应"
   ]
  },
  {
   "cell_type": "code",
   "execution_count": 7,
   "id": "1ab6b24f",
   "metadata": {},
   "outputs": [],
   "source": [
    "stoichiometry = reaction.assign(\n",
    "    enthalpy_experimental=(reaction*data['enthalpy_experimental']).sum(axis=1),\n",
    "    enthalpy_calculated=(reaction*data['enthalpy_calculated']).sum(axis=1),\n",
    ") # 计算反应热(焓变)\n",
    "stoichiometry = stoichiometry.assign(OCO_backbone=stoichiometry['CO2']+stoichiometry['HCOOH']) # 记录OCO骨架"
   ]
  },
  {
   "cell_type": "code",
   "execution_count": 8,
   "id": "7cf7cef7",
   "metadata": {},
   "outputs": [
    {
     "data": {
      "text/plain": [
       "{'OCO_backbone': 0.26870735180661287, 'CO': -0.08260010033463322}"
      ]
     },
     "execution_count": 8,
     "metadata": {},
     "output_type": "execute_result"
    }
   ],
   "source": [
    "model = LinearRegression() # 线性回归模型\n",
    "X = stoichiometry[['OCO_backbone', 'CO']]\n",
    "Y = stoichiometry.enthalpy_experimental - stoichiometry.enthalpy_calculated\n",
    "model.fit(X, Y)\n",
    "correction = dict(zip(['OCO_backbone', 'CO'], model.coef_))\n",
    "correction # 校正值"
   ]
  },
  {
   "cell_type": "code",
   "execution_count": 9,
   "id": "b8bad610",
   "metadata": {},
   "outputs": [],
   "source": [
    "data.loc['CO2', 'correction'] = correction['OCO_backbone']\n",
    "data.loc['HCOOH', 'correction'] = correction['OCO_backbone']\n",
    "data.loc['CO', 'correction'] = correction['CO']\n",
    "data.correction = data.correction.fillna(0.)\n",
    "free_energy = data.free_energy + data.correction\n",
    "data = data.rename(columns={'free_energy': 'free_energy_uncorrected'}).assign(free_energy=free_energy)"
   ]
  },
  {
   "cell_type": "markdown",
   "id": "5a2c7e39",
   "metadata": {},
   "source": [
    "#### 校正过程\n",
    "Analysis of reaction enthalpies (in eV) of gas-phase thermochemical reactions.\n",
    "'enthalpy_experimental' was the literature value taken from NIST,\n",
    "'enthalpy_calculated' was VASP calculated reaction enthalpies,\n",
    "'enthalpy_corrected' was corrected reaction enthalpies that included -0.x eV for CO and +0.x eV for the OCO backbone."
   ]
  },
  {
   "cell_type": "code",
   "execution_count": 10,
   "id": "d63af46f",
   "metadata": {},
   "outputs": [],
   "source": [
    "def stoichiometric(n): # 格式化化学反应系数\n",
    "    if isclose(n%1., 0.): # 整数判断\n",
    "        coefficient = '{:d} '.format(int(n)).replace('1 ', '') # 系数后加空格，省略1\n",
    "    else:\n",
    "        coefficient = '%d/%d '%(n).as_integer_ratio() # 系数后加空格\n",
    "    return coefficient"
   ]
  },
  {
   "cell_type": "code",
   "execution_count": 11,
   "id": "f16968d8",
   "metadata": {},
   "outputs": [],
   "source": [
    "def to_formula(n): # 把化学反应计量数改写为化学反应方程式\n",
    "    reactants = (-n[n<0]).apply(stoichiometric).to_frame().reset_index().iloc[:, ::-1].T.apply(''.join)\n",
    "    products = n[n>0].apply(stoichiometric).to_frame().reset_index().iloc[:, ::-1].T.apply(''.join)\n",
    "    formula = ' -> '.join(map(' + '.join, (reactants, products)))\n",
    "    return formula"
   ]
  },
  {
   "cell_type": "code",
   "execution_count": 12,
   "id": "db16e333",
   "metadata": {},
   "outputs": [],
   "source": [
    "n = stoichiometry.drop(['enthalpy_experimental', 'enthalpy_calculated', 'OCO_backbone'], axis=1)\n",
    "stoichiometry = stoichiometry[['enthalpy_experimental', 'enthalpy_calculated']]\n",
    "stoichiometry = stoichiometry.assign(error_calculated=stoichiometry.enthalpy_experimental-stoichiometry.enthalpy_calculated)\n",
    "stoichiometry = stoichiometry.assign(enthalpy_corrected=(n*(data.enthalpy_calculated+data.correction)).sum(axis=1))\n",
    "stoichiometry = stoichiometry.assign(error_corrected=stoichiometry.enthalpy_experimental-stoichiometry.enthalpy_corrected)\n",
    "stoichiometry = stoichiometry.set_index(n.T.apply(to_formula))\n",
    "stoichiometry.index.name = 'stoichiometry'"
   ]
  },
  {
   "cell_type": "code",
   "execution_count": 13,
   "id": "6e4868d6",
   "metadata": {},
   "outputs": [],
   "source": [
    "stoichiometry.to_csv('OCO_backbone.csv')"
   ]
  },
  {
   "cell_type": "markdown",
   "id": "9f14a638",
   "metadata": {},
   "source": [
    "### 导出数据\n",
    "计算总反应自由能"
   ]
  },
  {
   "cell_type": "code",
   "execution_count": 14,
   "id": "6b7a89c1",
   "metadata": {},
   "outputs": [],
   "source": [
    "data = data.assign(atoms_count=data.index.map(lambda s: Formula(s).count()))\n",
    "relative_energy = data.free_energy + data.atoms_count.map(lambda count: get_relative_energy(get_balanced_count(count, pe=False), data.free_energy))\n",
    "data = data.drop('atoms_count', axis=1).assign(relative_energy=relative_energy)\n",
    "data.loc['N2', 'relative_energy'] = 0.\n",
    "data.loc['NH3', 'relative_energy'] = data.free_energy['NH3'] - 0.5*data.free_energy['N2'] - 1.5*data.free_energy['H2']"
   ]
  },
  {
   "cell_type": "code",
   "execution_count": 15,
   "id": "92e4bd71",
   "metadata": {},
   "outputs": [],
   "source": [
    "data.to_csv('gas.csv')"
   ]
  },
  {
   "cell_type": "code",
   "execution_count": null,
   "id": "33fbbc65",
   "metadata": {},
   "outputs": [],
   "source": []
  }
 ],
 "metadata": {
  "kernelspec": {
   "display_name": "Python 3",
   "language": "python",
   "name": "python3"
  },
  "language_info": {
   "codemirror_mode": {
    "name": "ipython",
    "version": 3
   },
   "file_extension": ".py",
   "mimetype": "text/x-python",
   "name": "python",
   "nbconvert_exporter": "python",
   "pygments_lexer": "ipython3",
   "version": "3.8.8"
  }
 },
 "nbformat": 4,
 "nbformat_minor": 5
}
